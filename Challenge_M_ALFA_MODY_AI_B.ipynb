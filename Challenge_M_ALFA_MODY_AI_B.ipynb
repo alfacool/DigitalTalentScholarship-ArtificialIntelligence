{
 "cells": [
  {
   "cell_type": "code",
   "execution_count": 1,
   "metadata": {},
   "outputs": [],
   "source": [
    "import cv2\n",
    "import numpy as np\n",
    "from matplotlib import pyplot as plt\n",
    "video_capture = cv2.VideoCapture(0+cv2.CAP_DSHOW)\n",
    "\n",
    "while True:\n",
    "    ret, frame = video_capture.read()\n",
    "    gray_image = cv2.cvtColor(frame, cv2.COLOR_BGR2GRAY)\n",
    "    template = cv2.imread('template_foto.jpg',0)\n",
    "    \n",
    "    w,h=template.shape[::-1]\n",
    "    res = cv2.matchTemplate(gray_image,template,cv2.TM_CCOEFF_NORMED)\n",
    "    min_val,max_val,min_loc,max_loc=cv2.minMaxLoc(res)\n",
    "    threshold=0.7\n",
    "    loc= np.where(res>=threshold)\n",
    "    for pt in zip(*loc[::-1]):\n",
    "        img=cv2.rectangle(frame,pt,(pt[0]+w,pt[1]+h),(0,0,255),2)\n",
    "    cv2.imshow('Video',frame)\n",
    "    if cv2.waitKey(1)&0xff==ord('q'):\n",
    "        break\n",
    "video_capture.release()\n",
    "cv2.destroyAllWindows()\n"
   ]
  },
  {
   "cell_type": "code",
   "execution_count": null,
   "metadata": {},
   "outputs": [],
   "source": []
  }
 ],
 "metadata": {
  "kernelspec": {
   "display_name": "Python 3",
   "language": "python",
   "name": "python3"
  },
  "language_info": {
   "codemirror_mode": {
    "name": "ipython",
    "version": 3
   },
   "file_extension": ".py",
   "mimetype": "text/x-python",
   "name": "python",
   "nbconvert_exporter": "python",
   "pygments_lexer": "ipython3",
   "version": "3.7.0"
  }
 },
 "nbformat": 4,
 "nbformat_minor": 2
}
