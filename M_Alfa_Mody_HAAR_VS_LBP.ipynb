{
 "cells": [
  {
   "cell_type": "code",
   "execution_count": 1,
   "metadata": {},
   "outputs": [],
   "source": [
    "import cv2\n",
    "import numpy as np\n",
    "import timeit\n"
   ]
  },
  {
   "cell_type": "code",
   "execution_count": 2,
   "metadata": {},
   "outputs": [],
   "source": [
    "def detect_face(DataClassifier):\n",
    "    face_cascade = cv2.CascadeClassifier(DataClassifier)\n",
    "    while True:\n",
    "        video_cap = cv2.VideoCapture(0)\n",
    "        ret, img= video_cap.read()\n",
    "        gray = cv2.cvtColor(img,cv2.COLOR_BGR2GRAY)\n",
    "        \n",
    "        time0=timeit.default_timer()\n",
    "        faces = face_cascade.detectMultiScale(gray,1.3,5)\n",
    "        for (x,y,w,h) in faces:\n",
    "            img = cv2.rectangle(img,(x,y),(x+w,y+h),(255,0,0),2)\n",
    "        time1=timeit.default_timer()\n",
    "       \n",
    "        time_T=time1-time0\n",
    "        cv2.imshow('WebCam',img)\n",
    "        if cv2.waitKey(1) & 0xFF == ord('q'):\n",
    "            break\n",
    "    video_cap.release()\n",
    "    cv2.destroyAllWindows()\n",
    "    print (time_T)\n",
    "    "
   ]
  },
  {
   "cell_type": "code",
   "execution_count": 3,
   "metadata": {},
   "outputs": [
    {
     "name": "stdout",
     "output_type": "stream",
     "text": [
      "0.07441959999999881\n"
     ]
    }
   ],
   "source": [
    "detect_face('haarcascade_frontalface_default.xml')\n"
   ]
  },
  {
   "cell_type": "code",
   "execution_count": 4,
   "metadata": {},
   "outputs": [
    {
     "name": "stdout",
     "output_type": "stream",
     "text": [
      "0.033697399999994104\n"
     ]
    }
   ],
   "source": [
    "detect_face('lbpcascade_frontalface.xml')"
   ]
  }
 ],
 "metadata": {
  "kernelspec": {
   "display_name": "Python 3",
   "language": "python",
   "name": "python3"
  },
  "language_info": {
   "codemirror_mode": {
    "name": "ipython",
    "version": 3
   },
   "file_extension": ".py",
   "mimetype": "text/x-python",
   "name": "python",
   "nbconvert_exporter": "python",
   "pygments_lexer": "ipython3",
   "version": "3.7.0"
  }
 },
 "nbformat": 4,
 "nbformat_minor": 2
}
