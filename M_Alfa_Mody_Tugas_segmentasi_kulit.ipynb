{
 "cells": [
  {
   "cell_type": "code",
   "execution_count": 1,
   "metadata": {},
   "outputs": [],
   "source": [
    "import cv2\n",
    "import numpy as np\n",
    "\n",
    "\n",
    "video_cap = cv2.VideoCapture(0)\n",
    "\n",
    "lowerBound=np.array([0,48,60])\n",
    "\n",
    "upperBound=np.array([20,255,255])\n",
    "\n",
    "\n",
    "\n",
    "while True:\n",
    "    ret, frame= video_cap.read()\n",
    "    converted = cv2.cvtColor(frame, cv2.COLOR_BGR2HSV)\n",
    "    \n",
    "    skinMask=cv2.inRange(converted,lowerBound,upperBound)\n",
    "    \n",
    "    #kernel = cv2.getStructuringElement(cv2.MORPH_ELLIPSE, (11, 11))\n",
    "    #skinMask = cv2.erode(skinMask, kernel, iterations = 2)\n",
    "    #skinMask = cv2.dilate(skinMask, kernel, iterations = 2)\n",
    "    #skinMask = cv2.GaussianBlur(skinMask, (3, 3), 0)\n",
    "    \n",
    "    skin = cv2.bitwise_and(frame, frame, mask = skinMask)\n",
    "    \n",
    "    cv2.imshow(\"cam\", np.hstack([frame, skin]))\n",
    "    \n",
    "    if cv2.waitKey(1) & 0xFF == ord('q'):\n",
    "        \n",
    "        break\n",
    "video_cap.release()\n",
    "cv2.destroyAllWindows()\n",
    "\n",
    "    \n"
   ]
  },
  {
   "cell_type": "code",
   "execution_count": null,
   "metadata": {},
   "outputs": [],
   "source": []
  }
 ],
 "metadata": {
  "kernelspec": {
   "display_name": "Python 3",
   "language": "python",
   "name": "python3"
  },
  "language_info": {
   "codemirror_mode": {
    "name": "ipython",
    "version": 3
   },
   "file_extension": ".py",
   "mimetype": "text/x-python",
   "name": "python",
   "nbconvert_exporter": "python",
   "pygments_lexer": "ipython3",
   "version": "3.7.0"
  }
 },
 "nbformat": 4,
 "nbformat_minor": 2
}
